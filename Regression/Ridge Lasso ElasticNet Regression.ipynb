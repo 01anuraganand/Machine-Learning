{
 "cells": [
  {
   "cell_type": "markdown",
   "id": "3db2ba74-91de-4521-abce-7b7cd9e2a6b2",
   "metadata": {},
   "source": [
    "# Ridge Lasso and ElasticNet Regression"
   ]
  },
  {
   "cell_type": "code",
   "execution_count": 1,
   "id": "b79a50a3-3f5e-4eb2-a99e-605d4f1c117e",
   "metadata": {},
   "outputs": [],
   "source": [
    "import pandas as pd\n",
    "from sklearn.model_selection import train_test_split\n",
    "from sklearn.metrics import r2_score, mean_squared_error"
   ]
  },
  {
   "cell_type": "code",
   "execution_count": 2,
   "id": "22100138-b8f7-4051-9979-176fa1485f72",
   "metadata": {},
   "outputs": [
    {
     "data": {
      "text/html": [
       "<div>\n",
       "<style scoped>\n",
       "    .dataframe tbody tr th:only-of-type {\n",
       "        vertical-align: middle;\n",
       "    }\n",
       "\n",
       "    .dataframe tbody tr th {\n",
       "        vertical-align: top;\n",
       "    }\n",
       "\n",
       "    .dataframe thead th {\n",
       "        text-align: right;\n",
       "    }\n",
       "</style>\n",
       "<table border=\"1\" class=\"dataframe\">\n",
       "  <thead>\n",
       "    <tr style=\"text-align: right;\">\n",
       "      <th></th>\n",
       "      <th>Unnamed: 0</th>\n",
       "      <th>TV</th>\n",
       "      <th>radio</th>\n",
       "      <th>newspaper</th>\n",
       "      <th>sales</th>\n",
       "    </tr>\n",
       "  </thead>\n",
       "  <tbody>\n",
       "    <tr>\n",
       "      <th>0</th>\n",
       "      <td>1</td>\n",
       "      <td>230.1</td>\n",
       "      <td>37.8</td>\n",
       "      <td>69.2</td>\n",
       "      <td>22.1</td>\n",
       "    </tr>\n",
       "    <tr>\n",
       "      <th>1</th>\n",
       "      <td>2</td>\n",
       "      <td>44.5</td>\n",
       "      <td>39.3</td>\n",
       "      <td>45.1</td>\n",
       "      <td>10.4</td>\n",
       "    </tr>\n",
       "    <tr>\n",
       "      <th>2</th>\n",
       "      <td>3</td>\n",
       "      <td>17.2</td>\n",
       "      <td>45.9</td>\n",
       "      <td>69.3</td>\n",
       "      <td>9.3</td>\n",
       "    </tr>\n",
       "    <tr>\n",
       "      <th>3</th>\n",
       "      <td>4</td>\n",
       "      <td>151.5</td>\n",
       "      <td>41.3</td>\n",
       "      <td>58.5</td>\n",
       "      <td>18.5</td>\n",
       "    </tr>\n",
       "    <tr>\n",
       "      <th>4</th>\n",
       "      <td>5</td>\n",
       "      <td>180.8</td>\n",
       "      <td>10.8</td>\n",
       "      <td>58.4</td>\n",
       "      <td>12.9</td>\n",
       "    </tr>\n",
       "  </tbody>\n",
       "</table>\n",
       "</div>"
      ],
      "text/plain": [
       "   Unnamed: 0     TV  radio  newspaper  sales\n",
       "0           1  230.1   37.8       69.2   22.1\n",
       "1           2   44.5   39.3       45.1   10.4\n",
       "2           3   17.2   45.9       69.3    9.3\n",
       "3           4  151.5   41.3       58.5   18.5\n",
       "4           5  180.8   10.8       58.4   12.9"
      ]
     },
     "execution_count": 2,
     "metadata": {},
     "output_type": "execute_result"
    }
   ],
   "source": [
    "df = pd.read_csv('../SDataset/Advertising.csv')\n",
    "df.head()"
   ]
  },
  {
   "cell_type": "code",
   "execution_count": 3,
   "id": "96d9cadf-b877-4a02-8bf4-f378adf3205a",
   "metadata": {},
   "outputs": [
    {
     "data": {
      "text/html": [
       "<div>\n",
       "<style scoped>\n",
       "    .dataframe tbody tr th:only-of-type {\n",
       "        vertical-align: middle;\n",
       "    }\n",
       "\n",
       "    .dataframe tbody tr th {\n",
       "        vertical-align: top;\n",
       "    }\n",
       "\n",
       "    .dataframe thead th {\n",
       "        text-align: right;\n",
       "    }\n",
       "</style>\n",
       "<table border=\"1\" class=\"dataframe\">\n",
       "  <thead>\n",
       "    <tr style=\"text-align: right;\">\n",
       "      <th></th>\n",
       "      <th>TV</th>\n",
       "      <th>radio</th>\n",
       "      <th>newspaper</th>\n",
       "      <th>sales</th>\n",
       "    </tr>\n",
       "  </thead>\n",
       "  <tbody>\n",
       "    <tr>\n",
       "      <th>0</th>\n",
       "      <td>230.1</td>\n",
       "      <td>37.8</td>\n",
       "      <td>69.2</td>\n",
       "      <td>22.1</td>\n",
       "    </tr>\n",
       "    <tr>\n",
       "      <th>1</th>\n",
       "      <td>44.5</td>\n",
       "      <td>39.3</td>\n",
       "      <td>45.1</td>\n",
       "      <td>10.4</td>\n",
       "    </tr>\n",
       "    <tr>\n",
       "      <th>2</th>\n",
       "      <td>17.2</td>\n",
       "      <td>45.9</td>\n",
       "      <td>69.3</td>\n",
       "      <td>9.3</td>\n",
       "    </tr>\n",
       "    <tr>\n",
       "      <th>3</th>\n",
       "      <td>151.5</td>\n",
       "      <td>41.3</td>\n",
       "      <td>58.5</td>\n",
       "      <td>18.5</td>\n",
       "    </tr>\n",
       "    <tr>\n",
       "      <th>4</th>\n",
       "      <td>180.8</td>\n",
       "      <td>10.8</td>\n",
       "      <td>58.4</td>\n",
       "      <td>12.9</td>\n",
       "    </tr>\n",
       "    <tr>\n",
       "      <th>...</th>\n",
       "      <td>...</td>\n",
       "      <td>...</td>\n",
       "      <td>...</td>\n",
       "      <td>...</td>\n",
       "    </tr>\n",
       "    <tr>\n",
       "      <th>195</th>\n",
       "      <td>38.2</td>\n",
       "      <td>3.7</td>\n",
       "      <td>13.8</td>\n",
       "      <td>7.6</td>\n",
       "    </tr>\n",
       "    <tr>\n",
       "      <th>196</th>\n",
       "      <td>94.2</td>\n",
       "      <td>4.9</td>\n",
       "      <td>8.1</td>\n",
       "      <td>9.7</td>\n",
       "    </tr>\n",
       "    <tr>\n",
       "      <th>197</th>\n",
       "      <td>177.0</td>\n",
       "      <td>9.3</td>\n",
       "      <td>6.4</td>\n",
       "      <td>12.8</td>\n",
       "    </tr>\n",
       "    <tr>\n",
       "      <th>198</th>\n",
       "      <td>283.6</td>\n",
       "      <td>42.0</td>\n",
       "      <td>66.2</td>\n",
       "      <td>25.5</td>\n",
       "    </tr>\n",
       "    <tr>\n",
       "      <th>199</th>\n",
       "      <td>232.1</td>\n",
       "      <td>8.6</td>\n",
       "      <td>8.7</td>\n",
       "      <td>13.4</td>\n",
       "    </tr>\n",
       "  </tbody>\n",
       "</table>\n",
       "<p>200 rows × 4 columns</p>\n",
       "</div>"
      ],
      "text/plain": [
       "        TV  radio  newspaper  sales\n",
       "0    230.1   37.8       69.2   22.1\n",
       "1     44.5   39.3       45.1   10.4\n",
       "2     17.2   45.9       69.3    9.3\n",
       "3    151.5   41.3       58.5   18.5\n",
       "4    180.8   10.8       58.4   12.9\n",
       "..     ...    ...        ...    ...\n",
       "195   38.2    3.7       13.8    7.6\n",
       "196   94.2    4.9        8.1    9.7\n",
       "197  177.0    9.3        6.4   12.8\n",
       "198  283.6   42.0       66.2   25.5\n",
       "199  232.1    8.6        8.7   13.4\n",
       "\n",
       "[200 rows x 4 columns]"
      ]
     },
     "execution_count": 3,
     "metadata": {},
     "output_type": "execute_result"
    }
   ],
   "source": [
    "df.drop(['Unnamed: 0'], axis = 1, inplace = True)\n",
    "df"
   ]
  },
  {
   "cell_type": "code",
   "execution_count": 4,
   "id": "47407536-8a13-4e62-a9e4-fd3ed2b8c878",
   "metadata": {},
   "outputs": [],
   "source": [
    "X_train, X_test, Y_train, Y_test = train_test_split(df[['TV', 'radio', 'newspaper']], df.sales, test_size = 0.25, random_state = 42)\n"
   ]
  },
  {
   "cell_type": "markdown",
   "id": "becda7ac-6fdb-4651-92db-c29ad51e3f7a",
   "metadata": {},
   "source": [
    "## Ridge Regression\n",
    "Ridge Regression (L2) is used when there is a problem of multicollinearity.\n",
    "By adding a degree of bias to the regression estimates, ridge regression reduces the standard errors.\n",
    "\n",
    "The main idea is to find a new line that has some bias with respect to the training data, In return for that small amount of bias, a significant drop in variance is achieved.\n",
    "\n",
    "Loss Equation defined as : $ \\large \\sum{(\\hat Y_i - Y_i)^2} + \\lambda \\sum{{x_i}^2} $\n",
    "\n",
    " - $\\lambda $ controls the strength of the penalty term\n",
    " - $ \\hat Y_i $ is predicted datapoints\n",
    " - $ Y_i $ is actual datapoints"
   ]
  },
  {
   "cell_type": "code",
   "execution_count": 5,
   "id": "63b1d35f-2b5f-4535-96b4-576e6f5d782f",
   "metadata": {},
   "outputs": [
    {
     "data": {
      "text/plain": [
       "{'alpha': 1.0,\n",
       " 'copy_X': True,\n",
       " 'fit_intercept': True,\n",
       " 'max_iter': None,\n",
       " 'normalize': False,\n",
       " 'random_state': None,\n",
       " 'solver': 'auto',\n",
       " 'tol': 0.001}"
      ]
     },
     "execution_count": 5,
     "metadata": {},
     "output_type": "execute_result"
    }
   ],
   "source": [
    "from sklearn.linear_model import Ridge\n",
    "Ridge().get_params()"
   ]
  },
  {
   "cell_type": "code",
   "execution_count": 6,
   "id": "64f7a235-182b-476f-ae1f-734eeb51535c",
   "metadata": {},
   "outputs": [
    {
     "data": {
      "text/plain": [
       "Ridge(alpha=0.3)"
      ]
     },
     "execution_count": 6,
     "metadata": {},
     "output_type": "execute_result"
    }
   ],
   "source": [
    "rr = Ridge(alpha = 0.3)\n",
    "rr.fit(X_train, Y_train)"
   ]
  },
  {
   "cell_type": "code",
   "execution_count": 7,
   "id": "93efe2b6-18b6-4a78-8c48-e3b72bd33858",
   "metadata": {},
   "outputs": [
    {
     "data": {
      "text/plain": [
       "array([0.04543356, 0.19145451, 0.00256863])"
      ]
     },
     "execution_count": 7,
     "metadata": {},
     "output_type": "execute_result"
    }
   ],
   "source": [
    "rr.coef_"
   ]
  },
  {
   "cell_type": "code",
   "execution_count": 8,
   "id": "d3f91747-09f7-4c08-9e53-14114b2285e6",
   "metadata": {},
   "outputs": [
    {
     "data": {
      "text/plain": [
       "2.778334360513526"
      ]
     },
     "execution_count": 8,
     "metadata": {},
     "output_type": "execute_result"
    }
   ],
   "source": [
    "rr.intercept_"
   ]
  },
  {
   "cell_type": "code",
   "execution_count": 9,
   "id": "170a3732-34ed-497c-8ebf-c26ff38e767b",
   "metadata": {},
   "outputs": [
    {
     "data": {
      "text/plain": [
       "array([16.38347793, 20.92431281, 21.61495156, 10.49068077, 22.17683816,\n",
       "       13.02666961, 21.10304993,  7.31814754, 13.56735239, 15.12238909,\n",
       "        8.92492346,  6.49927956, 14.30126956,  8.77231064,  9.58669603,\n",
       "       12.09488727,  8.5962126 , 16.2533704 , 10.16948858, 18.85751537,\n",
       "       19.57990962, 13.15878916, 12.25099318, 21.35141633,  7.69608868,\n",
       "        5.64690759, 20.79776311, 11.90951965,  9.0658316 ,  8.37293311,\n",
       "       12.40819628,  9.89416016, 21.42704025, 12.14235961, 18.28779163,\n",
       "       20.18111168, 13.99297071, 20.8998824 , 10.93139945,  4.3872552 ,\n",
       "        9.58216243, 12.61704056,  9.9385153 ,  8.06817796, 13.45501316,\n",
       "        5.25772518,  9.15401612, 14.09552139,  8.71033641, 11.55101215])"
      ]
     },
     "execution_count": 9,
     "metadata": {},
     "output_type": "execute_result"
    }
   ],
   "source": [
    "rpred = rr.predict(X_test)\n",
    "rpred"
   ]
  },
  {
   "cell_type": "code",
   "execution_count": 10,
   "id": "344e6d05-58a1-4002-91c0-bac39ff4ed12",
   "metadata": {},
   "outputs": [
    {
     "data": {
      "text/plain": [
       "2.8800156243370565"
      ]
     },
     "execution_count": 10,
     "metadata": {},
     "output_type": "execute_result"
    }
   ],
   "source": [
    "mean_squared_error(Y_test, rpred)"
   ]
  },
  {
   "cell_type": "code",
   "execution_count": 11,
   "id": "cdf776bb-88d0-43c4-b98d-48c2543b67e8",
   "metadata": {},
   "outputs": [
    {
     "data": {
      "text/plain": [
       "0.8935166317120741"
      ]
     },
     "execution_count": 11,
     "metadata": {},
     "output_type": "execute_result"
    }
   ],
   "source": [
    "r2_score(Y_test, rpred)"
   ]
  },
  {
   "cell_type": "markdown",
   "id": "b52562e3-3727-4d6e-9ee4-606c1980b42f",
   "metadata": {},
   "source": [
    "## Lasso Regression\n",
    "\n",
    "Lasso Regression (L1) is similar to ridge, but it also performs feature selection.\n",
    "It will set the coefficient value for features that do not help in decision making very low, potentially zero.\n",
    "\n",
    "Lasso regression tends to exclude variables that are not required from the equation, whereas ridge tends \n",
    "to do better when all variables are present.\n",
    "\n",
    "Loss Equation defined as : $ \\large \\sum{(\\hat Y_i - Y_i)^2} + \\lambda \\sum{{x_i}} $\n",
    "\n",
    " - $\\lambda $ controls the strength of the penalty term\n",
    " - $ \\hat Y_i $ is predicted datapoints\n",
    " - $ Y_i $ is actual datapoints"
   ]
  },
  {
   "cell_type": "code",
   "execution_count": 12,
   "id": "d6b2c25c-876b-476c-83af-5c6cb680519b",
   "metadata": {},
   "outputs": [
    {
     "data": {
      "text/plain": [
       "{'alpha': 1.0,\n",
       " 'copy_X': True,\n",
       " 'fit_intercept': True,\n",
       " 'max_iter': 1000,\n",
       " 'normalize': False,\n",
       " 'positive': False,\n",
       " 'precompute': False,\n",
       " 'random_state': None,\n",
       " 'selection': 'cyclic',\n",
       " 'tol': 0.0001,\n",
       " 'warm_start': False}"
      ]
     },
     "execution_count": 12,
     "metadata": {},
     "output_type": "execute_result"
    }
   ],
   "source": [
    "from sklearn.linear_model import Lasso\n",
    "Lasso().get_params()"
   ]
  },
  {
   "cell_type": "code",
   "execution_count": 13,
   "id": "4141e1c2-6ff5-4002-9099-74abceaaa86e",
   "metadata": {},
   "outputs": [
    {
     "data": {
      "text/plain": [
       "Lasso(alpha=0.9)"
      ]
     },
     "execution_count": 13,
     "metadata": {},
     "output_type": "execute_result"
    }
   ],
   "source": [
    "lreg = Lasso(alpha = 0.9)\n",
    "lreg.fit(X_train, Y_train)"
   ]
  },
  {
   "cell_type": "code",
   "execution_count": 14,
   "id": "5bb108b1-7519-4138-931b-df02fee9dd63",
   "metadata": {},
   "outputs": [
    {
     "data": {
      "text/plain": [
       "array([16.32867031, 20.81116094, 21.5704462 , 10.44093814, 22.11443168,\n",
       "       12.96876421, 21.03069428,  7.3827303 , 13.64992098, 15.12251188,\n",
       "        8.96536588,  6.57045356, 14.29964133,  8.78867798,  9.66594118,\n",
       "       12.14168436,  8.58151712, 16.26865389, 10.18545843, 18.85831012,\n",
       "       19.4917581 , 13.02507385, 12.22565328, 21.24901218,  7.78704401,\n",
       "        5.74066115, 20.72116659, 11.96518471,  9.11751823,  8.40674695,\n",
       "       12.48627015,  9.92646857, 21.29949328, 12.01756832, 18.30108846,\n",
       "       20.16507432, 13.94757871, 20.83602142, 10.99402962,  4.48565506,\n",
       "        9.6484498 , 12.69140074,  9.93253718,  8.128277  , 13.5379696 ,\n",
       "        5.35589071,  9.17558788, 14.10782999,  8.77148427, 11.56126673])"
      ]
     },
     "execution_count": 14,
     "metadata": {},
     "output_type": "execute_result"
    }
   ],
   "source": [
    "lpred = lreg.predict(X_test)\n",
    "lpred"
   ]
  },
  {
   "cell_type": "code",
   "execution_count": 15,
   "id": "d4786f41-c965-48dd-8376-b1efe369737a",
   "metadata": {},
   "outputs": [
    {
     "data": {
      "text/plain": [
       "2.83868029685398"
      ]
     },
     "execution_count": 15,
     "metadata": {},
     "output_type": "execute_result"
    }
   ],
   "source": [
    "mean_squared_error(Y_test, lpred )"
   ]
  },
  {
   "cell_type": "code",
   "execution_count": 16,
   "id": "e2f9a7ae-9e29-4cb7-b8a2-3c40fd431779",
   "metadata": {},
   "outputs": [
    {
     "data": {
      "text/plain": [
       "0.8950449306777075"
      ]
     },
     "execution_count": 16,
     "metadata": {},
     "output_type": "execute_result"
    }
   ],
   "source": [
    "r2_score(Y_test, lpred)"
   ]
  },
  {
   "cell_type": "markdown",
   "id": "98036146-1889-485b-a065-235784308721",
   "metadata": {},
   "source": [
    "## ElasticNet Regression\n",
    "ElasticNet regression combines \n",
    "the strength of lasso and ridge regression. \n",
    "\n",
    "If you are not sure whether to use lasso or ridge, use ElasticNet\n",
    "\n",
    "Loss Objective defined as :  $ \\large \\sum{(\\hat Y_i - Y_i)^2} + \\lambda _1 \\sum{x_i} + \\lambda _2 \\sum{x_i}^2$\n"
   ]
  },
  {
   "cell_type": "code",
   "execution_count": 17,
   "id": "9c0ff476-7981-4d5f-8abf-87c108c7230c",
   "metadata": {},
   "outputs": [
    {
     "data": {
      "text/plain": [
       "{'alpha': 1.0,\n",
       " 'copy_X': True,\n",
       " 'fit_intercept': True,\n",
       " 'l1_ratio': 0.5,\n",
       " 'max_iter': 1000,\n",
       " 'normalize': False,\n",
       " 'positive': False,\n",
       " 'precompute': False,\n",
       " 'random_state': None,\n",
       " 'selection': 'cyclic',\n",
       " 'tol': 0.0001,\n",
       " 'warm_start': False}"
      ]
     },
     "execution_count": 17,
     "metadata": {},
     "output_type": "execute_result"
    }
   ],
   "source": [
    "from sklearn.linear_model import ElasticNet\n",
    "ElasticNet().get_params()"
   ]
  },
  {
   "cell_type": "code",
   "execution_count": 18,
   "id": "30eab4e5-f5b9-405b-9405-5a2778c943d3",
   "metadata": {},
   "outputs": [
    {
     "data": {
      "text/plain": [
       "ElasticNet()"
      ]
     },
     "execution_count": 18,
     "metadata": {},
     "output_type": "execute_result"
    }
   ],
   "source": [
    "enreg = ElasticNet(alpha = 1.0, l1_ratio = 0.5)\n",
    "enreg.fit(X_train, Y_train)"
   ]
  },
  {
   "cell_type": "code",
   "execution_count": 19,
   "id": "35236049-ae30-457d-b75a-5b5d87c785b0",
   "metadata": {},
   "outputs": [
    {
     "data": {
      "text/plain": [
       "array([16.35200777, 20.85238609, 21.5895651 , 10.45831418, 22.12575308,\n",
       "       12.99173893, 21.05222371,  7.3583322 , 13.62093858, 15.12309966,\n",
       "        8.94301061,  6.54760041, 14.31775323,  8.77534083,  9.64089449,\n",
       "       12.1293744 ,  8.58720222, 16.25977339, 10.18022294, 18.85334385,\n",
       "       19.53244812, 13.08920983, 12.22599612, 21.29368413,  7.74971666,\n",
       "        5.70850214, 20.74592053, 11.9422075 ,  9.09976894,  8.38602117,\n",
       "       12.46077458,  9.91195517, 21.34722472, 12.07086319, 18.30087744,\n",
       "       20.16342115, 13.95302739, 20.86566578, 10.96720609,  4.45153272,\n",
       "        9.6258873 , 12.66220686,  9.93420318,  8.10536013, 13.50965215,\n",
       "        5.31989363,  9.17113098, 14.10062529,  8.75372831, 11.55274678])"
      ]
     },
     "execution_count": 19,
     "metadata": {},
     "output_type": "execute_result"
    }
   ],
   "source": [
    "enpred = enreg.predict(X_test)\n",
    "enpred"
   ]
  },
  {
   "cell_type": "code",
   "execution_count": 20,
   "id": "e682bba8-58ab-4957-b4df-0030fac05866",
   "metadata": {},
   "outputs": [
    {
     "data": {
      "text/plain": [
       "2.8543424465527103"
      ]
     },
     "execution_count": 20,
     "metadata": {},
     "output_type": "execute_result"
    }
   ],
   "source": [
    "mean_squared_error(Y_test, enpred )"
   ]
  },
  {
   "cell_type": "code",
   "execution_count": 21,
   "id": "e437d81c-4217-48b7-8a9c-14c99b5b45ef",
   "metadata": {},
   "outputs": [
    {
     "data": {
      "text/plain": [
       "0.8944658510225635"
      ]
     },
     "execution_count": 21,
     "metadata": {},
     "output_type": "execute_result"
    }
   ],
   "source": [
    "r2_score(Y_test, enpred)"
   ]
  }
 ],
 "metadata": {
  "kernelspec": {
   "display_name": "Python 3",
   "language": "python",
   "name": "python3"
  },
  "language_info": {
   "codemirror_mode": {
    "name": "ipython",
    "version": 3
   },
   "file_extension": ".py",
   "mimetype": "text/x-python",
   "name": "python",
   "nbconvert_exporter": "python",
   "pygments_lexer": "ipython3",
   "version": "3.8.8"
  }
 },
 "nbformat": 4,
 "nbformat_minor": 5
}
