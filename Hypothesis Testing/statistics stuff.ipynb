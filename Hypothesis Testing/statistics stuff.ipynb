{
 "cells": [
  {
   "cell_type": "markdown",
   "id": "7021ae5a-cf53-432f-83c0-a7453ee4b768",
   "metadata": {},
   "source": [
    "# Statistics Stuff"
   ]
  },
  {
   "cell_type": "markdown",
   "id": "5713cbce-eb38-4c02-9be5-dc41f4f672e5",
   "metadata": {},
   "source": [
    "## Random Variable:\n",
    "Random Variable is a function X with domain sample space S and ranged in (-$\\infty + \\infty$).\n",
    "\n",
    "Example : Tossing a coin twice.\n",
    "\n",
    "Two types of random variable\n",
    "\n",
    " <b>1. Discrete Ranodm Variable</b> - If random variable takes countable value is refered as Discrete random varable.\n",
    "     <br>      Ex- 0,1,2\n",
    "     \n",
    " <b>2. Continious Random Variable</b> - If random variable takes all value within a given limit is called continous random varaible.<br>\n",
    "          Ex - 72.1 kg, 72.5kg, 75.5kg\n",
    "     "
   ]
  },
  {
   "cell_type": "markdown",
   "id": "1feae5ab-6967-4071-9c41-25386043363d",
   "metadata": {},
   "source": [
    "## Discrete Distribuition Function(DF)\n",
    "This distribuition funciton F for a random varable X is defined as :\n",
    "\n",
    "\n",
    "$ \\large F(x) = P(X \\leq x) ~~~~~~~~~~ where x \\in (-\\infty, \\infty) $\n",
    " - $F(-\\infty) \\Rightarrow  P(X \\leq -\\infty) \\Rightarrow = 0 $\n",
    " - $F(\\infty) \\Rightarrow  P(X \\leq \\infty) \\Rightarrow = 1 $\n",
    " - $hence ~~~ 0 \\leq F(x) \\leq 1 $ \n",
    " - $F(x) < F(y)$\n",
    " \n",
    " $a < x \\leq b \\Rightarrow P(a < x \\leq  b) $\n",
    " \n",
    " $\\Rightarrow F(b) - F(a) $\n",
    " \n",
    " $\\Rightarrow P(-\\infty < x \\leq b) - P(-\\infty < x \\leq a)$"
   ]
  },
  {
   "cell_type": "markdown",
   "id": "dbc25b99-b2be-493c-9bed-4a578d27e67b",
   "metadata": {},
   "source": [
    "## Probability Mass Function (Discrete Density Function)\n",
    "\n",
    "It is defined as of discrete random variable which takes the value $x_1, x_2 ... x_n $ if defined as\n",
    "\n",
    "$\\large\n",
    "p_x(x) = \n",
    "     \\begin{cases}\n",
    "     \\text{P(x =} x_i, ) &\\quad\\text{if x} = x_i\\\\\n",
    "     \\text{0,}&\\quad\\text{if x} \\neq x_i\\\\\n",
    "     \\end{cases}\n",
    "$\n",
    "\n",
    "${(x_1, p_1), (x_2, p_2) ... (x_n, p_n}$ - Probability distribuition of random variable x.\n",
    "\n",
    " - $ 0 \\leq p_i \\leq 1$\n",
    " - $\\sum_{i=1}^{n} = 1$"
   ]
  },
  {
   "cell_type": "markdown",
   "id": "d5863cca-b6c3-4807-9374-819e278e2109",
   "metadata": {},
   "source": [
    "## Probability Density Function for Continous Random Varaible\n",
    "It is defined as:\n",
    "\n",
    "$ \\large F_X(x) = \\lim_{\\delta \\to 0} \\frac{P(x ~ \\leq ~ X ~ \\leq~  s+ \\delta x)}{\\delta x}$\n",
    "\n",
    "$\\qquad \\quad \\large \\Rightarrow  \\lim_ {\\delta x \\to 0} \\frac {P(x ~ \\leq ~ x+\\delta x)- P(X \\leq x)}{\\delta x}$\n",
    "\n",
    "$\\qquad \\quad \\large \\Rightarrow \\lim_ {\\delta x \\to 0} \\frac{F(x + \\delta x) - F(x)}{\\delta x}$\n",
    "\n",
    "$\\large F_X(x)     =  \\frac{dF}{dx}$\n",
    "\n",
    "$\\large dF = F_X(x).dx$\n",
    "\n",
    "integrating both side.\n",
    "\n",
    "$\\large \\int_{x}^{x+\\delta x} dF = \\int_{x}^{x+\\delta x} F_X(x).dx$\n",
    "\n",
    "$\\large F(x + \\delta x) - F(x) = \\int_{x}^{x+\\delta x} F_X(x).dx$\n"
   ]
  },
  {
   "cell_type": "code",
   "execution_count": null,
   "id": "fcc06f1e-1d12-4e3b-ba37-66c78a194f12",
   "metadata": {},
   "outputs": [],
   "source": []
  },
  {
   "cell_type": "markdown",
   "id": "4c31851d-2489-4a44-9664-fafd48196e4d",
   "metadata": {},
   "source": [
    "## Mathematical Expectations (Expected Value) of random value\n",
    "It is defined as average value of the random variable declared to study any phenomena. Mathematically we can say it is the weighted average of all possible value of random variable.\n",
    "\n",
    "$\\large \\bar X = \\frac{\\sum_{i = 1}^{n}f_i x_i}{\\sum_{i = 1}^{n} f_i)} \\qquad$  where weights are probabilty of random variables. It is denoted by $E(x)$\n",
    "\n",
    " - for Discrete random variable $E(x) = \\sum_{i = 1}^{n} x_i p_i$\n",
    " \n",
    " - for Continous random variable $E(x) = \\int_{-\\infty}^{\\infty} x_i f(x_i).dx$\n",
    "\n"
   ]
  },
  {
   "cell_type": "markdown",
   "id": "df85f4ee-cd8c-4128-811d-1c54f3028e88",
   "metadata": {},
   "source": [
    "## Expected Value of function of Random Variable (Mean)\n",
    "\n",
    " - for Discrete random variable $E(g(x)) = \\sum_{i = 1}^{n} g(x_i) p_i$\n",
    " \n",
    " - for Continous random variable $E(x) = \\int_{-\\infty}^{\\infty} g(x_i) f(x_i).dx$\n",
    " \n",
    "lets take:\n",
    "$g(x) = X^r$\n",
    "\n",
    "$ E(X^r) = \\int_{-\\infty}^{\\infty} X^r f(x).dx \\Rightarrow \\mu_{r}^{'} \\quad$ where $ \\mu_{r}^{'} $ is called $r^{th}$ moment about X = 0 (origin)\n",
    "\n",
    "$\\large \\mu_{1} ^ {'} = \\int_{-\\infty} ^ {\\infty} x f(x).dx \\Rightarrow  E(X) \\Rightarrow mean$\n",
    "\n",
    "$\\mu_{2} ^ {'} = \\int_{-\\infty} ^ {\\infty} x^2 f(x).dx \\Rightarrow  E(X^2) $"
   ]
  },
  {
   "cell_type": "markdown",
   "id": "52ed9ef2-1e58-42b1-ac7d-168d706f97ba",
   "metadata": {},
   "source": [
    "### $R^{th}$ moment about mean (Variance fomulation)\n",
    "Take $g(x) = ((X - E(X))^r$\n",
    "\n",
    "$E((X-E(X))^r  = \\int_{-\\infty}^{\\infty}((x - \\bar x))^r f(x)dx$\n",
    "\n",
    "$\\mu_1 = \\int_{-\\infty}^{\\infty}(x - \\bar x)f(x).dx$\n",
    "\n",
    "$\\Rightarrow \\int_{-\\infty}^{\\infty}xf(x)dx - \\bar x \\int_{-\\infty}^{\\infty} f(x)dx$\n",
    "\n",
    "\n",
    "\n",
    "$\\Rightarrow E(x) - \\bar x \\quad$ From above equation of $\\mu_{1}^{'} = E(X)$ (mean)\n",
    "\n",
    "Now take 2nd moment about mean.\n",
    "\n",
    "$\\mu_2 = \\int_{-\\infty}^{\\infty} (x - \\bar x)^2f(x).dx$\n",
    "\n",
    "$\\quad \\Rightarrow \\int_{-\\infty}^{\\infty}x^2f(x)dx + \\bar x^2 \\int_{-\\infty}^{\\infty} f(x) dx  - 2 \\bar x \\int_{-\\infty}^{\\infty} xf(x)dx$\n",
    "\n",
    "$\\quad \\Rightarrow E(x^2) + \\bar x^2 - 2 \\bar x E(x) $ \n",
    "$\\quad $\n"
   ]
  },
  {
   "cell_type": "code",
   "execution_count": null,
   "id": "3c609da5-6d3f-49fe-b3ae-5a4efc5ac3ed",
   "metadata": {},
   "outputs": [],
   "source": []
  },
  {
   "cell_type": "markdown",
   "id": "168b1f4d-2d2a-4cdb-88d6-720e63d59436",
   "metadata": {},
   "source": [
    "## Points to remember\n",
    " - $E(X + Y) = E(X) + E(Y)$\n",
    " - $E(X_1 + X_2 + ... X_n) = E(X_1) + E(X_2) + {...} + E(X_n)$ \n",
    " - $E(X.Y) = E(X).E(Y)$\n",
    " - $E(X_1 . X_2 . ~ {...} ~~.X_n) = E(X_1) . E(X_2) . {...} . E(X_n)$ \n",
    " - $E(aX + b) = aE(X) + b$\n",
    " - $E(a_1x_1 + a_2x_2 + {...} + a_nx_n) = a_1E(x_1) + a_2E(x_2) + {...} +  a_nE(x_n)$\n",
    " - $Y \\leq X \\Rightarrow E(Y)\\leq E(X)$"
   ]
  },
  {
   "cell_type": "markdown",
   "id": "b9d3e7f1-5c1b-45de-aa2e-09fe02b6fcc8",
   "metadata": {},
   "source": [
    "## Properties of Variance\n",
    "$V(X) = E((X - E(X)^2) \\Rightarrow E(X^2) - (E(X))^2$\n",
    "\n",
    "If X is random variable then\n",
    "\n",
    " - $V(ax +b) = a^2V(x)$\n",
    " - $V(ax +by) = a^2V(x) + b^2V(y) + 2abCov(x,y)$"
   ]
  },
  {
   "cell_type": "markdown",
   "id": "49d72f69-5a53-47d8-94b5-644f84f16bc3",
   "metadata": {},
   "source": [
    "## Covariance\n",
    "If X and Y are two random variable then covariance between  them is defined as:\n",
    "\n",
    "$ Cov(X, Y) = E[(X-E(X)(Y-E(Y))] $\n",
    "\n",
    "$\\qquad \\qquad  \\Rightarrow E[(XY) - XE(Y) - YE(X) + E(X)E(Y)$\n",
    "\n",
    "$\\qquad \\qquad  \\Rightarrow  E(XY) - E(Y)E(X) - E(X)E(Y) + E(X)E(Y)$\n",
    "\n",
    "$\\qquad \\qquad  \\Rightarrow E(XY) - E(X)E(Y)$\n",
    "\n",
    " - $Cov(aX + bY) = abCov(X, Y)$\n",
    " - $Cov(X+a, Y+b) = Cov(X, Y)$\n",
    " - $\\large Cov \\bigl[ \\frac{X - \\bar X}{\\sigma_x}, \\frac{Y - \\bar Y}{\\sigma_y}\\bigr] = \\frac{1}{\\sigma_x \\sigma_y}Cov(X, Y)$\n",
    " - $Cov(aX+b, cY+d) = ac.Cov(X,Y)$\n",
    " - $Cov(X+Y, Z) = Cov(X,Z) + Cov(Y, Z)$\n",
    " - $Cov(aX + bY, cX+dY) = ac.V(X) + bd.V(Y) + (ad + bc)Cov(X, Y)$"
   ]
  },
  {
   "cell_type": "markdown",
   "id": "4da2a99f-0908-48e7-8dee-02e722f5acb6",
   "metadata": {},
   "source": [
    "## Moment Generating Function\n",
    "The moment generating function of random variable X(about mean) having probability function $f(x)$ is given bY-\n",
    "\n",
    "$M_x(t) = E(e^{tx})$\n",
    "$\\Rightarrow \n",
    "    \\begin{cases}\n",
    "    \\text{$\\sum e^{tx}.f(x) \\quad $For Discrete random variable}\\\\\n",
    "    \\text{$\\int e^{tx}.f(x).dx \\quad $ For Continous Random variable}\\\\\n",
    "    \\end{cases}\n",
    "$\n",
    "\n",
    "$M_x(t) = E(e^{tx})$\n",
    "\n",
    "$\\qquad \\Rightarrow E \\bigl[ 1+ \\frac{tx}{1!} + \\frac{(tx)^2}{2!} + \\frac{(tx)^3}{3!} + ~. . . \\bigr] \\qquad$ where t is real prarameter\n",
    "\n",
    "$\\qquad \\Rightarrow E(1) + E\\bigl[\\frac{tx}{1!} \\bigr] + E\\bigl[\\frac{(tx)^2}{2!}\\bigr] + E\\bigl[\\frac{(tx)^3}{3!}\\bigr] + ~. . . $\n",
    "\n",
    "$\\qquad \\Rightarrow 1 + tE(x) + \\frac{t^2}{2!}E(x^2) + \\frac{t^3}{3!}E(x^3) + ~. . . $\n",
    "\n",
    "$\\qquad \\Rightarrow 1 + t \\mu_1^{'} + \\frac{t^2}{2!}\\mu_2^{'} + \\frac{t^3}{3!}\\mu_3^{'} + ~. . . $\n",
    "\n",
    "$M_x(t) = \\sum_{r=0}^{\\infty} \\frac{t^r}{r!} \\mu_r^{'}$"
   ]
  },
  {
   "cell_type": "code",
   "execution_count": null,
   "id": "0a2cf359-bb15-4495-b0e5-5cfd31aab0c8",
   "metadata": {},
   "outputs": [],
   "source": []
  },
  {
   "cell_type": "code",
   "execution_count": null,
   "id": "14aafcca-6140-47c2-9df8-4aa9d6c40bc2",
   "metadata": {},
   "outputs": [],
   "source": []
  },
  {
   "cell_type": "code",
   "execution_count": null,
   "id": "2635b452-bf9f-4539-b93f-b4a11482281e",
   "metadata": {},
   "outputs": [],
   "source": []
  }
 ],
 "metadata": {
  "kernelspec": {
   "display_name": "Python 3",
   "language": "python",
   "name": "python3"
  },
  "language_info": {
   "codemirror_mode": {
    "name": "ipython",
    "version": 3
   },
   "file_extension": ".py",
   "mimetype": "text/x-python",
   "name": "python",
   "nbconvert_exporter": "python",
   "pygments_lexer": "ipython3",
   "version": "3.8.8"
  }
 },
 "nbformat": 4,
 "nbformat_minor": 5
}
