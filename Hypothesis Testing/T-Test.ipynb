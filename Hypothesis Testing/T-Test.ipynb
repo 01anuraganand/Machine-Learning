{
 "cells": [
  {
   "cell_type": "markdown",
   "id": "15e11317-6d1b-42e5-bbbe-ffc6fab30758",
   "metadata": {},
   "source": [
    "# T-Test\n",
    "It is statistical test which is used to compare the means of two groups to determine whether estimation operation has an affect on the population of interest or its different from each other.\n",
    " - Also known as Student’s T-test. \n",
    " - A small sample is generally regarded as one of size $n<30$. A t-test is necessary for small samples because their distributions are not normal."
   ]
  },
  {
   "cell_type": "markdown",
   "id": "4ee855d5-3d6f-4b0a-99e9-b5406b2b237c",
   "metadata": {},
   "source": [
    "## One Sample T-Test\n",
    "This test describe whether sample mean and population means are different or not.\n",
    "Which is given by following Equation:\n",
    "\n",
    "$\\LARGE t = \\frac{\\bar x - \\mu}{s_{\\bar x}}~~~~~~~~~~~~~~~$          where $\\LARGE s_{\\bar x} = \\frac{s}{\\sqrt n}$\n",
    " - $\\large \\mu$ - Proposed constant of the population mean\n",
    " - $\\large \\bar x $ - Sample mean\n",
    " - $\\large n$ - Sample size\n",
    " - $\\large s$ - Sample Standard deviation\n",
    " - $\\large s_{\\bar x}$ - Estimated standard Error of the mean\n",
    " \n",
    "Note: P Low NULL GO  (if p_value is less than significance level reject Null hypothesis)"
   ]
  },
  {
   "cell_type": "code",
   "execution_count": 1,
   "id": "a67f11d7-13d5-440a-9c91-21894a562918",
   "metadata": {},
   "outputs": [],
   "source": [
    "import numpy as np\n",
    "import pandas as pd\n",
    "from scipy.stats import ttest_1samp"
   ]
  },
  {
   "cell_type": "code",
   "execution_count": 2,
   "id": "86d6c87a-6d19-42d7-b729-c6138743bca1",
   "metadata": {},
   "outputs": [
    {
     "data": {
      "text/plain": [
       "array([71, 34, 91, 80, 40, 94, 94, 43, 22, 41, 72, 21, 49, 57, 21, 83, 79,\n",
       "       40, 52, 95, 77, 41, 68, 78, 61, 79, 99, 34, 81, 81, 66, 81, 70, 74,\n",
       "       83, 22, 70, 26, 40, 92, 58, 37, 23, 79, 33, 28, 72, 21, 79, 90])"
      ]
     },
     "execution_count": 2,
     "metadata": {},
     "output_type": "execute_result"
    }
   ],
   "source": [
    "np.random.seed(42)\n",
    "population_size = 50\n",
    "population_marks = np.random.randint(low = 20, high = 100, size = population_size)\n",
    "population_marks"
   ]
  },
  {
   "cell_type": "code",
   "execution_count": 3,
   "id": "09ee1841-c97a-4e68-bc36-24aad765278c",
   "metadata": {},
   "outputs": [
    {
     "name": "stdout",
     "output_type": "stream",
     "text": [
      "Population mean: 60.44\n"
     ]
    }
   ],
   "source": [
    "population_mean = np.mean(population_marks)\n",
    "print('Population mean:', population_mean)"
   ]
  },
  {
   "cell_type": "code",
   "execution_count": 4,
   "id": "20a40976-d42a-4959-a3eb-239ee5ec878a",
   "metadata": {},
   "outputs": [
    {
     "data": {
      "text/plain": [
       "array([40, 81, 21, 23, 43, 77, 40, 52, 68, 72, 72, 78, 22, 92, 78, 91, 41,\n",
       "       34, 78, 79])"
      ]
     },
     "execution_count": 4,
     "metadata": {},
     "output_type": "execute_result"
    }
   ],
   "source": [
    "np.random.seed(42)\n",
    "sample_size = 20\n",
    "sample_marks = np.random.choice(population_marks, sample_size)\n",
    "sample_marks"
   ]
  },
  {
   "cell_type": "code",
   "execution_count": null,
   "id": "ee9078b9-25a3-43e0-85ca-e7a6df23b39f",
   "metadata": {},
   "outputs": [],
   "source": []
  },
  {
   "cell_type": "code",
   "execution_count": 5,
   "id": "d68bffb1-4954-4abb-a742-afc22bc0e5c7",
   "metadata": {},
   "outputs": [
    {
     "name": "stdout",
     "output_type": "stream",
     "text": [
      "T-test statistics: -0.2501082477102846\n",
      "P-value: 0.8051880032951816\n"
     ]
    }
   ],
   "source": [
    "ttest_1sample, p_value = ttest_1samp(sample_marks, popmean = population_mean)\n",
    "print('T-test statistics:', ttest_1sample)\n",
    "print('P-value:', p_value)"
   ]
  },
  {
   "cell_type": "code",
   "execution_count": 6,
   "id": "55b5968d-fed8-4dbe-bf81-dfe348fea544",
   "metadata": {},
   "outputs": [
    {
     "name": "stdout",
     "output_type": "stream",
     "text": [
      "Accept Null hypothesis, sample mean and population means has no significant difference.\n"
     ]
    }
   ],
   "source": [
    "alpha =  0.05 # 5%  level of significance\n",
    "if p_value < alpha:\n",
    "    print('Reject Null hypothesis, sample mean and population means has significant difference.')\n",
    "else:\n",
    "    print('Accept Null hypothesis, sample mean and population means has no significant difference.')"
   ]
  },
  {
   "cell_type": "markdown",
   "id": "a4e6db16-95a8-488e-ac91-0aecba8ae0b9",
   "metadata": {},
   "source": [
    "## Two Sample t-test or Independent Sample t-test\n",
    "This test compare the means of two independent groups to determine whether there is statistical evidence that the associated population means are signigicantly different or not.\n",
    "\n",
    "Equation for this defined as :\n",
    "$\\LARGE t = \\frac{\\bar x_1 - \\bar x_2}{\\sqrt {s^2 \\bigl( \\frac{1}{n_1} + \\frac{1}{n_2} \\bigr)}}$\n",
    "\n",
    "\n",
    "$\\large s^2 = \\LARGE \\frac{\\sum_{i=1}^{n_1}(x_i - \\bar x_1)^2 + \\sum_{j=1}^{n_2}(x_j - \\bar x_2)^2}{n_1 + n_2 - 2}$\n",
    "\n",
    " - $ \\bar x_1$ - Mean of first sample\n",
    " - $\\bar x_2$ - Mean of second sample\n",
    " - $s^2$ - Standard Error of Samples\n",
    " - $n_1 and n_2$- number of samples \n",
    " \n",
    "<b>Note</b>: It is compulsary for Independent sample t-test that sampel should be distributed normally with\n",
    "having equal homogeneity with its variance."
   ]
  },
  {
   "cell_type": "code",
   "execution_count": null,
   "id": "68204797-dd67-4066-a9a4-403e1f6ba52a",
   "metadata": {},
   "outputs": [],
   "source": []
  },
  {
   "cell_type": "code",
   "execution_count": 7,
   "id": "7f7cd43e-5299-45da-86af-6f3f1dc76354",
   "metadata": {},
   "outputs": [],
   "source": [
    "np.random.seed(42)\n",
    "from scipy.stats import poisson\n",
    "school_marks = poisson.rvs(loc = 18, mu = 35, size = 1500)\n",
    "student_age = poisson.rvs(loc = 10, mu = 10, size = 60)"
   ]
  },
  {
   "cell_type": "code",
   "execution_count": 8,
   "id": "d886b115-8454-4907-91f0-11f9bc1e49bf",
   "metadata": {},
   "outputs": [
    {
     "data": {
      "text/plain": [
       "array([51, 57, 46, ..., 59, 50, 55])"
      ]
     },
     "execution_count": 8,
     "metadata": {},
     "output_type": "execute_result"
    }
   ],
   "source": [
    "school_marks"
   ]
  },
  {
   "cell_type": "code",
   "execution_count": 9,
   "id": "364e771c-da78-4f01-b4f0-5adf11a56b0b",
   "metadata": {},
   "outputs": [
    {
     "data": {
      "text/plain": [
       "array([20, 13, 20, 24, 17, 22, 21, 16, 23, 22, 23, 22, 26, 14, 23, 23, 18,\n",
       "       26, 21, 18, 22, 22, 18, 19, 18, 26, 19, 14, 16, 19, 17, 23, 23, 22,\n",
       "       19, 18, 18, 17, 19, 16, 20, 20, 21, 16, 20, 18, 23, 19, 23, 21, 17,\n",
       "       21, 20, 16, 19, 13, 22, 17, 17, 19])"
      ]
     },
     "execution_count": 9,
     "metadata": {},
     "output_type": "execute_result"
    }
   ],
   "source": [
    "student_age"
   ]
  },
  {
   "cell_type": "code",
   "execution_count": 10,
   "id": "3636d42d-94b7-4065-9e5b-e963adbe8415",
   "metadata": {},
   "outputs": [
    {
     "data": {
      "text/plain": [
       "19.65"
      ]
     },
     "execution_count": 10,
     "metadata": {},
     "output_type": "execute_result"
    }
   ],
   "source": [
    "student_age.mean()"
   ]
  },
  {
   "cell_type": "code",
   "execution_count": 11,
   "id": "1ecc2aeb-f64d-4969-9fdb-7a138e32ae06",
   "metadata": {},
   "outputs": [
    {
     "name": "stdout",
     "output_type": "stream",
     "text": [
      "Ittest_statistics: 42.058523205930854\n",
      "P value: 6.04814143830998e-259\n"
     ]
    }
   ],
   "source": [
    "from scipy.stats import ttest_ind\n",
    "Ittest_statistics, p_value = ttest_ind(a = school_marks, b = student_age, equal_var = True)\n",
    "print('Ittest_statistics:', Ittest_statistics)\n",
    "print('P value:', p_value)"
   ]
  },
  {
   "cell_type": "code",
   "execution_count": 12,
   "id": "8c863071-acf7-47cb-acbc-0b2f1adc41dd",
   "metadata": {},
   "outputs": [
    {
     "name": "stdout",
     "output_type": "stream",
     "text": [
      "Reject Null hypothesis, mean of two samples has significant difference.\n"
     ]
    }
   ],
   "source": [
    "alpha =  0.05 # 5%  level of significance\n",
    "if p_value < alpha:\n",
    "    print('Reject Null hypothesis, mean of two samples has significant difference.')\n",
    "else:\n",
    "    print('Accept Null hypothesis,  mean of two samples has no significant difference.')"
   ]
  },
  {
   "cell_type": "markdown",
   "id": "7b342c98-78b6-433b-b8d5-4fa7ecd85988",
   "metadata": {},
   "source": [
    "## Paired T-test "
   ]
  },
  {
   "cell_type": "markdown",
   "id": "6c967490-523b-4894-b2d5-ed25b6f19a59",
   "metadata": {},
   "source": [
    "This test compare how the different samples from the same group are associated, Such kind of test is useful when dealing with attribute dependence on another attribute, pre and post analysis of same observation.\n",
    "\n",
    "Paired T-test formul : $\\LARGE t = \\frac{\\bar x_{pre} - \\bar x_{post}}{s_{\\bar x}}~~~~~~~~~~~~~~~$          where $\\LARGE s_{\\bar x} = \\frac{s}{\\sqrt n}$\n",
    " - $\\large n$ - Sample size\n",
    " - $\\large s$ - Sample Standard deviation\n",
    " - $\\large s_{\\bar x}$ - Estimated standard Error of the mean"
   ]
  },
  {
   "cell_type": "code",
   "execution_count": 13,
   "id": "06d41547-91db-49a8-8bc4-94cb0a315ba8",
   "metadata": {},
   "outputs": [],
   "source": [
    "test1 = sample_marks"
   ]
  },
  {
   "cell_type": "code",
   "execution_count": 14,
   "id": "a088f6b9-38a2-475a-b6f2-09079e4c28f0",
   "metadata": {},
   "outputs": [
    {
     "data": {
      "text/plain": [
       "array([84, 47, 93, 53, 56, 35, 54, 85, 34, 62, 70, 34, 96, 92, 53, 65, 90,\n",
       "       54, 81, 91])"
      ]
     },
     "execution_count": 14,
     "metadata": {},
     "output_type": "execute_result"
    }
   ],
   "source": [
    "np.random.seed(42)\n",
    "test2 = np.random.randint(low = 33, high = 100,size = sample_size)\n",
    "test2"
   ]
  },
  {
   "cell_type": "code",
   "execution_count": 15,
   "id": "1a29cf85-59c7-4f18-bd25-dc1fd945dc1a",
   "metadata": {},
   "outputs": [],
   "source": [
    "from scipy.stats import ttest_rel"
   ]
  },
  {
   "cell_type": "code",
   "execution_count": 16,
   "id": "6354f86c-7920-4a5b-9ffc-8686c994d8c8",
   "metadata": {},
   "outputs": [
    {
     "name": "stdout",
     "output_type": "stream",
     "text": [
      "Paired T test statistics: -0.9202544001495981\n",
      "P value: 0.3689768842592085\n"
     ]
    }
   ],
   "source": [
    "tstatistics, p_value = ttest_rel(a = test1, b = test2)\n",
    "print(\"Paired T test statistics:\", tstatistics )\n",
    "print('P value:', p_value)"
   ]
  },
  {
   "cell_type": "code",
   "execution_count": 17,
   "id": "23e45864-3796-435a-b457-1fcec2af8fe2",
   "metadata": {},
   "outputs": [
    {
     "name": "stdout",
     "output_type": "stream",
     "text": [
      "accept the null hypothesis\n"
     ]
    }
   ],
   "source": [
    "if p_value < 0.05:    # alpha value is 0.05 or 5%\n",
    "    print(\"reject the null hypothesis\")\n",
    "else:\n",
    "    print(\"accept the null hypothesis\")"
   ]
  }
 ],
 "metadata": {
  "kernelspec": {
   "display_name": "Python 3",
   "language": "python",
   "name": "python3"
  },
  "language_info": {
   "codemirror_mode": {
    "name": "ipython",
    "version": 3
   },
   "file_extension": ".py",
   "mimetype": "text/x-python",
   "name": "python",
   "nbconvert_exporter": "python",
   "pygments_lexer": "ipython3",
   "version": "3.8.8"
  }
 },
 "nbformat": 4,
 "nbformat_minor": 5
}
