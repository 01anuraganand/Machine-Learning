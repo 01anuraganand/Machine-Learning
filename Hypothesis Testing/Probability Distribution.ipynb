{
 "cells": [
  {
   "cell_type": "markdown",
   "id": "3d01c3e3-4c32-430d-b7bc-212f73d7d40d",
   "metadata": {},
   "source": [
    "# Probability Distribution\n",
    "In probability theory and statistics, a probability distribution is the mathematical function that gives the probabilities of occurrence of different possible outcomes for an experiment. It is a mathematical description of a random phenomenon in terms of its sample space and the probabilities of events."
   ]
  },
  {
   "cell_type": "markdown",
   "id": "c61cf452-631a-499b-b0b7-6c1277f43c5b",
   "metadata": {},
   "source": [
    "## Various Types of Distribuition are: \n",
    " - Binomial Distribution\n",
    " - Poisson Distribution\n",
    " - Gaussian(Normal, Continous) Distribution"
   ]
  },
  {
   "cell_type": "markdown",
   "id": "73a924d9-9afb-44a1-bb87-3c5f23d2dd5a",
   "metadata": {},
   "source": [
    "## Binomial Distribution\n",
    "\n",
    "Moment generating function of Random variable $X \\sim B(n, p)$\n",
    "\n",
    "let $X \\sim B(n, p)$ be any Discrete Random Variable then moment generating function of X is given by:\n",
    "\n",
    "$M_x(t) = E(e^{tx})  \\Rightarrow \\sum_{x = 0}^{n} e^{tx}p(X = x)$\n",
    "\n",
    "$\\qquad \\Rightarrow \\sum_{x = 0}^{n} (e^t)^x (^n C_x p^xq^{(n-x)})$\n",
    "\n",
    "$\\qquad \\Rightarrow \\sum_{x = 0}^{n} ~^nC_x (pe^t)^x q^{(n-x)}$\n",
    "\n",
    "$M_x(t) = (q + pe^t)^n$\n",
    "\n",
    "<b>Taking 1st order derivative of generating moment w.r.t to t at t = 0\n",
    "\n",
    "$\\mu_1^{'} = \\bigl( \\frac{dM}{dt} \\bigr)_{t=0} \\Rightarrow \\bigl[ n(q + pe^t)^{(n-1)} (0 + pe^t) \\bigl] _{t=0}$\n",
    "\n",
    "putting t = 0\n",
    "\n",
    "$\\qquad\\Rightarrow n(q+p.1)^{n-1} p.1$\n",
    "\n",
    "$\\qquad\\Rightarrow np(q+p)^{(n-1)}$\n",
    "\n",
    "$\\qquad\\Rightarrow np(1)^{n-1} \\quad$ probability  $  p+q = 1$\n",
    "\n",
    "$\\mu_1^{'} = np \\qquad$        <b>which represent mean\n",
    "    \n",
    "<b> Taking 2st order derivative of generating moment w.r.t to t at t = 0\n",
    "\n",
    "$\\mu_2^{'} = \\bigl( \\frac{d^2M}{dt^2} \\bigr)_{t=0} \\Rightarrow  \\bigl[ npe^t(q + pe^t)^{(n-1)} \\bigl]  \\quad$ 1st order derivative from $\\mu_1^{'} $\n",
    "    \n",
    "$\\qquad \\Rightarrow np \\bigl[e^t (n-1) (q + e^t)^{(n-2)}(pe^t) + (q + pe^t)^{(n-1)}e^t \\bigr]_{t = 0}$\n",
    "    \n",
    "$\\qquad \\Rightarrow np\\bigl[ (n-1)(p+1)^{(n-2)} p + (p+q).1 \\bigr]$\n",
    "\n",
    "$\\qquad \\Rightarrow np\\bigl[  (n-1) p +1 \\bigr]\\quad$ probability $p+q = 1$\n",
    "\n",
    "$\\mu_2^{'} \\quad \\Rightarrow n^2p^2 - np^2 + np$\n",
    "    \n",
    "\n",
    "<b> Variance $\\Rightarrow \\mu_2^{'} - (\\mu_1^{'})^2$\n",
    "    \n",
    "putting the value of first and second moment, we get\n",
    "\n",
    "$\\quad\\Rightarrow n^2p^2 - np^2 + np - (np)^2 $\n",
    "    \n",
    "$\\quad\\Rightarrow np(1-p)$\n",
    "\n",
    "$Variance = npq$\n",
    "\n"
   ]
  },
  {
   "cell_type": "markdown",
   "id": "6aad970c-4fcb-4823-9b0e-791c90f192b0",
   "metadata": {},
   "source": [
    "## Points to remember for Binomial Distribution\n",
    "\n",
    " - $MGF = E(e^{tx}) \\quad \\Rightarrow (q + pe^t)^n$\n",
    " - MGF of Binomial Distribuition about Mean : $M_{x - u_t} = E(e^{t(x-\\mu)}) \\quad \\Rightarrow e^{-npt}E(e^{xt}) \\Rightarrow e^{-npt} M_x(t) \\Rightarrow e^{-npt}(q+pet)^n$\n",
    " - $\\mu_1^{'} = np \\Rightarrow mean \\Rightarrow E(X)$\n",
    " - $\\mu_2^{'} = np(1-p) ~~or ~~ npq \\Rightarrow Variance \\Rightarrow E(X^2)$\n",
    " - $\\mu_3^{'} = npq(q-p) \\Rightarrow  E(X^3)$\n",
    " - $\\mu_4^{'} = npq(1+3(n-2)pq) \\Rightarrow E(X^4)$\n",
    " - $npq < np$\n",
    " - <b>Mode:</b> case 1: when $[(n+1)p]$ is not an integer. Let $[(n+1)p] = m + f$, where $m$ is an interger and  $f$ is fractional such that $0<f<1$ $\\Rightarrow mode = m$\n",
    " - $\\qquad$case 2: when $[(n+1)p]$ is an integer .Let $[(n+1)p = m]$ in such case it has $two ~ mode = m ~ and ~ m-1$"
   ]
  },
  {
   "cell_type": "code",
   "execution_count": 1,
   "id": "63514171-2d03-4c27-a769-042bc9782eed",
   "metadata": {},
   "outputs": [],
   "source": [
    "import numpy as np\n",
    "import matplotlib.pyplot as plt\n",
    "from scipy.stats import binom\n",
    "from scipy.stats import poisson\n",
    "from scipy.stats import norm"
   ]
  },
  {
   "cell_type": "code",
   "execution_count": 2,
   "id": "8ae38ef3-5514-4a32-b880-32a6aa7a7b7d",
   "metadata": {},
   "outputs": [],
   "source": [
    "n, p = 20, 0.25\n",
    "\"\"\"\n",
    "composed of letters ['mvsk'] defining which moments to compute:\n",
    "        'm' = mean,\n",
    "        'v' = variance,\n",
    "        's' = (Fisher's) skew,\n",
    "        'k' = (Fisher's) kurtosis.\n",
    "        (default is 'mv')\n",
    "\"\"\"\n",
    "mean, var, skew, kurt = binom.stats(n = n, p = p, moments = 'mvsk')"
   ]
  },
  {
   "cell_type": "code",
   "execution_count": 3,
   "id": "ec5bf015-02d9-4167-8bbb-bb7a647983bb",
   "metadata": {},
   "outputs": [
    {
     "data": {
      "text/plain": [
       "(array(5.), array(3.75), array(0.25819889), array(-0.03333333))"
      ]
     },
     "execution_count": 3,
     "metadata": {},
     "output_type": "execute_result"
    }
   ],
   "source": [
    "mean, var, skew , kurt"
   ]
  },
  {
   "cell_type": "code",
   "execution_count": 4,
   "id": "897231e7-340e-49a2-8efb-384318d7e9a3",
   "metadata": {},
   "outputs": [
    {
     "data": {
      "text/plain": [
       "array([ 6, 11,  9,  2,  4,  3,  6,  3,  5,  3,  3,  6,  0,  5,  3, 10,  8,\n",
       "        7,  5,  5])"
      ]
     },
     "execution_count": 4,
     "metadata": {},
     "output_type": "execute_result"
    }
   ],
   "source": [
    "random_number = binom.rvs(n, p, size = n)\n",
    "random_number"
   ]
  },
  {
   "cell_type": "code",
   "execution_count": 5,
   "id": "4f500c1d-d42e-4b4d-9240-10ef5904b8da",
   "metadata": {},
   "outputs": [
    {
     "name": "stdout",
     "output_type": "stream",
     "text": [
      "Number of Trial:\n",
      " [0, 1, 2, 3, 4, 5, 6, 7, 8, 9, 10, 11, 12, 13, 14, 15, 16, 17, 18, 19, 20]\n",
      "Probability Mass Function:\n",
      " [0.0031712119389339963, 0.02114141292622662, 0.06694780759971763, 0.13389561519943521, 0.1896854548658663, 0.2023311518569235, 0.16860929321410317, 0.1124061954760694, 0.06088668921620409, 0.027060750762757338, 0.009922275279677699, 0.0030067500847508147, 0.0007516875211877055, 0.00015419231203850405, 2.569871867308388e-05, 3.4264958230778435e-06, 3.5692664823727645e-07, 2.7994246920570695e-08, 1.5552359400317042e-09, 5.456968210637573e-11, 9.094947017729282e-13]\n"
     ]
    },
    {
     "data": {
      "text/plain": [
       "[<matplotlib.lines.Line2D at 0x1fde5fbceb0>]"
      ]
     },
     "execution_count": 5,
     "metadata": {},
     "output_type": "execute_result"
    },
    {
     "data": {
      "image/png": "[encoded data removed]",
      "text/plain": [
       "<Figure size 432x288 with 1 Axes>"
      ]
     },
     "metadata": {
      "needs_background": "light"
     },
     "output_type": "display_data"
    }
   ],
   "source": [
    "n_trial = list(range(n+1))\n",
    "print(\"Number of Trial:\\n\", n_trial)\n",
    "\n",
    "PMF_Values = [binom.pmf(trial, n, p) for trial in n_trial]\n",
    "print('Probability Mass Function:\\n', PMF_Values)\n",
    "\n",
    "plt.bar(n_trial, PMF_Values)\n",
    "plt.plot(n_trial, PMF_Values, color = 'red', linewidth = 3)"
   ]
  },
  {
   "cell_type": "code",
   "execution_count": 6,
   "id": "5b51407a-5e4b-484c-8d5d-3238fb1a2720",
   "metadata": {},
   "outputs": [
    {
     "name": "stdout",
     "output_type": "stream",
     "text": [
      "Cummulative Distribution Function:\n",
      " [0.0031712119389339932, 0.024312624865160608, 0.09126043246487829, 0.22515604766431363, 0.41484150253018026, 0.6171726543871044, 0.7857819476012082, 0.8981881430772772, 0.9590748322934814, 0.9861355830562388, 0.9960578583359165, 0.9990646084206674, 0.9998162959418551, 0.9999704882538936, 0.9999961869725666, 0.9999996134683897, 0.999999970395038, 0.9999999983892849, 0.9999999999445208, 0.9999999999990905, 1.0]\n"
     ]
    },
    {
     "data": {
      "text/plain": [
       "[<matplotlib.lines.Line2D at 0x1fde676cc40>]"
      ]
     },
     "execution_count": 6,
     "metadata": {},
     "output_type": "execute_result"
    },
    {
     "data": {
      "image/png": "[encoded data removed]",
      "text/plain": [
       "<Figure size 432x288 with 1 Axes>"
      ]
     },
     "metadata": {
      "needs_background": "light"
     },
     "output_type": "display_data"
    }
   ],
   "source": [
    "CDF_Values = [binom.cdf(trial, n, p) for trial in n_trial]\n",
    "print('Cummulative Distribution Function:\\n', CDF_Values)\n",
    "\n",
    "plt.bar(n_trial, CDF_Values)\n",
    "plt.plot(n_trial, CDF_Values, color = 'red', linewidth = 3)"
   ]
  },
  {
   "cell_type": "markdown",
   "id": "2bb5aebf-7359-4d32-b016-ff4b6a149f60",
   "metadata": {},
   "source": [
    "## Poisson Distribution\n",
    "\n",
    "A random variable is said to follow a poisson distribution if it assume only non-negative values ans its probablity mass function is given by:\n",
    "$P(X = x) \\Rightarrow \n",
    "    \\begin{cases} \\frac{e^{-\\lambda} \\lambda^x}{x!}\\qquad x \\in 0, 1, 2, 3, 4.....\\\\\n",
    "    0 \\qquad \\qquad otherwise\n",
    "    \\end{cases}\\\\\n",
    "$\n",
    "\n",
    "Physical condition for poisson distribuition\n",
    " - Number of trials are infinite large $n \\rightarrow \\infty$\n",
    " - Probability of success should be indefinitly small $p \\rightarrow 0$\n",
    " - Each trials is in success or failure & each trials is independent.\n",
    " \n",
    "Let $X \\sim P(\\lambda)$ them moment generating function $M_x(t) = E(e^{tx})$\n",
    "\n",
    "$ \\Rightarrow \\sum_{x = 0}^{n} e^{tx}p(X = x)$\n",
    "\n",
    "$\\Rightarrow \\sum_{x=0}^{\\infty} (e^t)^x \\frac{e^{-\\lambda} \\lambda^x}{x!} \\qquad \\Rightarrow e^{-\\lambda} \\sum_{x = 0}^{\\infty} \\frac{(\\lambda e^t)^x}{x!}$\n",
    "\n",
    "$\\Rightarrow e^{-\\lambda} \\bigl[ 1+ \\frac{\\lambda e^t}{1!} + \\frac{(\\lambda e^t)^2}{2!} + ...  \\bigr]$\n",
    "\n",
    "$\\Rightarrow e^{-\\lambda} \\bigl[ e^{\\lambda e^t} \\bigr] \\qquad \\therefore e^x = 1 + \\frac{x}{1!} + \\frac{x^2}{2!} + ... $\n",
    "\n",
    "$\\Rightarrow e^{\\lambda e^t - \\lambda} \\qquad \\Rightarrow e^{\\lambda(e^t -1)}$\n",
    "\n",
    "<b>MGF for Poisson Distribution : $M_x(t) = e^{\\lambda(e^t -1)}$</b>\n",
    "\n",
    "\n",
    "<b> Taking 1st order derivative w.r.t t, at t =0\n",
    "    \n",
    "$\\mu_1^{'} = \\bigl[ \\frac{dM}{dt}\\bigr]_{t=0}$\n",
    "    \n",
    "$\\quad\\Rightarrow \\bigl[ e^{\\lambda(e^t - 1)}(\\lambda e^t -  0)\\bigr]_{t=0}$\n",
    "\n",
    "putting value of t\n",
    "    \n",
    "$\\quad\\Rightarrow e^{\\lambda (1-1)}.\\lambda e^0$\n",
    "    \n",
    "$\\mu_1^{'} \\Rightarrow \\lambda$ <b>which represent Mean\n",
    "    \n",
    "<b> Taking 2st order derivative w.r.t t, at t =0\n",
    "    \n",
    "$\\mu_2^{'} = \\bigl[ \\frac{d^2M}{dt^2}\\bigr]_{t=0}$\n",
    "\n",
    "$\\quad\\Rightarrow \\lambda\\bigl[ e^{\\lambda(e^t -1)}e^t.(\\lambda e^t) + e^{\\lambda(e^t -1)}.e^t \\bigr]_{t=0} $\n",
    "\n",
    "    putting value of t\n",
    "    \n",
    "$\\quad\\Rightarrow \\lambda \\bigl[ 1.1.\\lambda.1 + 1.1  \\bigr]$\n",
    "\n",
    "$\\mu_2^{'} =  \\lambda ^2 + \\lambda$\n",
    "\n"
   ]
  },
  {
   "cell_type": "markdown",
   "id": "132cf11b-bd9c-4c02-9054-ec1a341cd96e",
   "metadata": {},
   "source": [
    "<b> Variance $\\Rightarrow \\mu_2^{'} - (\\mu_1^{'})^2$\n",
    "    \n",
    "$\\quad \\Rightarrow \\lambda ^2 + \\lambda - \\lambda ^2$\n",
    "\n",
    "$Variance = \\lambda$"
   ]
  },
  {
   "cell_type": "markdown",
   "id": "70733cc6-e45d-48f2-ba1a-b346361b2c31",
   "metadata": {},
   "source": [
    "## Points to remember for Poisson Distribution\n",
    " - $\\mu_1^{'} = \\lambda = Mean = Variance$\n",
    " - $\\mu_1^{'} = \\lambda ^2 + \\lambda$\n",
    " - $\\mu_1^{'} = \\lambda ^3 + 3\\lambda ^2 + \\lambda$\n",
    " - $\\mu_1^{'} = \\lambda ^4 + 6\\lambda ^3 + 7\\lambda ^2 + \\lambda$\n",
    " -<b> Mode:</b> case 1: When $\\lambda$ is not an integer. Let suppose S is the integral part of $\\lambda$  then $\\lambda = S +f \\quad where ~ 0<f<1 \\Rightarrow$ <b> Mode = $\\lambda$\n",
    " -    $\\qquad$ case 2: When $\\lambda = k$ which is an integer then it has two mode $\\Rightarrow Mode = k-1 \\quad Mode = k$\n"
   ]
  },
  {
   "cell_type": "code",
   "execution_count": 7,
   "id": "76daa6e1-fec2-44de-a438-ab2a2b846bc9",
   "metadata": {},
   "outputs": [
    {
     "data": {
      "text/plain": [
       "(array(4.), array(4.), array(0.5), array(0.25))"
      ]
     },
     "execution_count": 7,
     "metadata": {},
     "output_type": "execute_result"
    }
   ],
   "source": [
    "mu = 4\n",
    "mean, var, skew , kurt = poisson.stats(mu, moments = 'mvsk')\n",
    "mean, var, skew, kurt"
   ]
  },
  {
   "cell_type": "code",
   "execution_count": 8,
   "id": "d84cf984-cd8a-4898-af76-604e766f088c",
   "metadata": {},
   "outputs": [
    {
     "data": {
      "text/plain": [
       "array([6, 3, 6, 6, 6, 5, 3, 5, 4, 2, 5, 6, 2, 1, 2, 4, 3, 3, 6, 2])"
      ]
     },
     "execution_count": 8,
     "metadata": {},
     "output_type": "execute_result"
    }
   ],
   "source": [
    "random_number = poisson.rvs(mu, size = n)\n",
    "random_number"
   ]
  },
  {
   "cell_type": "code",
   "execution_count": 9,
   "id": "8b4ab8a8-de30-4ccf-93af-56b3a1da153b",
   "metadata": {},
   "outputs": [
    {
     "name": "stdout",
     "output_type": "stream",
     "text": [
      "Number of Trial:\n",
      " [0, 1, 2, 3, 4, 5, 6, 7, 8, 9, 10, 11, 12, 13, 14, 15, 16, 17, 18, 19, 20]\n",
      "Probability Mass Function:\n",
      " [0.01831563888873418, 0.07326255555493673, 0.14652511110987343, 0.19536681481316454, 0.19536681481316454, 0.1562934518505317, 0.10419563456702102, 0.0595403626097263, 0.029770181304863145, 0.013231191691050305, 0.005292476676420117, 0.001924536973243679, 0.00064151232441456, 0.00019738840751217245, 5.6396687860620494e-05, 1.5039116762832128e-05, 3.759779190708031e-06, 8.8465392722542e-07, 1.9658976160564946e-07, 4.1387318232768255e-08, 8.277463646553656e-09]\n"
     ]
    },
    {
     "data": {
      "text/plain": [
       "[<matplotlib.lines.Line2D at 0x1fde680a9d0>]"
      ]
     },
     "execution_count": 9,
     "metadata": {},
     "output_type": "execute_result"
    },
    {
     "data": {
      "image/png": "[encoded data removed]",
      "text/plain": [
       "<Figure size 432x288 with 1 Axes>"
      ]
     },
     "metadata": {
      "needs_background": "light"
     },
     "output_type": "display_data"
    }
   ],
   "source": [
    "n_trial = list(range(n+1))\n",
    "print(\"Number of Trial:\\n\", n_trial)\n",
    "\n",
    "PMF_Values = [poisson.pmf(trial, mu) for trial in n_trial]\n",
    "print('Probability Mass Function:\\n', PMF_Values)\n",
    "\n",
    "plt.bar(n_trial, PMF_Values)\n",
    "plt.plot(n_trial, PMF_Values, color = 'red', linewidth = 3)"
   ]
  },
  {
   "cell_type": "code",
   "execution_count": 10,
   "id": "ce566011-7e4e-4f2e-bf6f-de4853a8f14c",
   "metadata": {},
   "outputs": [
    {
     "name": "stdout",
     "output_type": "stream",
     "text": [
      "Cummulative Distribution Function:\n",
      " [0.018315638888734182, 0.0915781944436709, 0.23810330555354436, 0.43347012036670896, 0.6288369351798734, 0.7851303870304052, 0.8893260215974264, 0.9488663842071527, 0.9786365655120158, 0.9918677572030661, 0.9971602338794863, 0.99908477085273, 0.9997262831771445, 0.9999236715846567, 0.9999800682725173, 0.9999951073892801, 0.9999988671684709, 0.9999997518223981, 0.9999999484121597, 0.9999999897994779, 0.9999999980769415]\n"
     ]
    },
    {
     "data": {
      "text/plain": [
       "[<matplotlib.lines.Line2D at 0x1fde689ef10>]"
      ]
     },
     "execution_count": 10,
     "metadata": {},
     "output_type": "execute_result"
    },
    {
     "data": {
      "image/png": "[encoded data removed]",
      "text/plain": [
       "<Figure size 432x288 with 1 Axes>"
      ]
     },
     "metadata": {
      "needs_background": "light"
     },
     "output_type": "display_data"
    }
   ],
   "source": [
    "CDF_Values = [poisson.cdf(trial, mu) for trial in n_trial]\n",
    "print('Cummulative Distribution Function:\\n', CDF_Values)\n",
    "\n",
    "plt.bar(n_trial, CDF_Values)\n",
    "plt.plot(n_trial, CDF_Values, color = 'red', linewidth = 3)"
   ]
  },
  {
   "cell_type": "markdown",
   "id": "5c163894-b886-435b-a0a3-46d470787b57",
   "metadata": {},
   "source": [
    "## Normal Distribution\n",
    "\n",
    "A random variable X is said to follow the normal distribution with parameter $\\mu$ (Mean) and $\\sigma ^2$ (Variance) if its Probability Density Function (PDF) is given as -\n",
    "\n",
    "$\\large f(x, \\mu, \\sigma) = \\frac{1}{\\sigma \\sqrt{2\\pi}} e^{-\\frac{1}{2} \\bigl( \\frac{X-\\mu}{\\sigma}  \\bigr)^2} \\quad \\therefore x \\in (-\\infty, infty), \\quad \\mu \\in (-\\infty, \\infty), \\quad \\sigma > 0$\n",
    "\n",
    "It is denoted by $X \\sim N(\\mu, \\sigma ^2).\\quad$\n",
    "\n",
    "\n",
    " - Normal Probability curve is bell shaped and symmetric about line $X = \\mu$\n",
    " - Mean = Median = Mode\n",
    " - The number of trials are very large $n \\rightarrow \\infty$\n",
    " - neither p nor q is very small\n",
    " - $P_{max} = \\frac{1}{\\sigma \\sqrt{2 \\pi}}$\n",
    "\n",
    "If $X \\sim N(\\mu, \\sigma ^2)$ then $Z = \\frac{x-\\mu}{\\sigma}$ is called standart normal variate.\n",
    "\n",
    " - $Mean(Z) \\Rightarrow E(Z) \\Rightarrow E \\bigl[ \\frac{X-\\mu}{\\sigma} \\bigr] \\Rightarrow \\frac{1}{\\sigma} \\bigl[ E(X) - E(\\mu) \\bigr] \\Rightarrow \\frac{1}{\\sigma}[\\mu - \\mu]\\Rightarrow 0$\n",
    " \n",
    " - $Variance(Z) = V\\bigl[\\frac{X-\\mu}{\\sigma} \\bigr] \\Rightarrow \\frac{1}{\\sigma ^2}[V(X) - V(\\mu)] \\Rightarrow \\frac{1}{\\sigma ^2}[\\sigma^2 - 0] \\Rightarrow 1$\n",
    " \n",
    "If $X \\sim N(\\mu, \\sigma ^2)$ then $Z \\sim N(0,1) $  \n",
    "\n",
    "<b>Moment Generating Function for Normal Distribution $\\large M_x(t) = e^{\\mu t} + \\frac{t^2 \\sigma^2}{2}$\n",
    "    \n",
    "<b>Moment Generating Function for Standard Normal Variate $\\lambda \\sim N(\\mu, \\sigma^2)$ then $Z = \\frac{X-\\mu}{\\sigma} \\quad $ where $Z \\sim N(0,1)$\n",
    "$\\Rightarrow \\large M_z(t) = \\frac{e^t{^2}}{2} $\n",
    "\n",
    " - Mean = Mode = Median = $\\mu$\n",
    " - Variance = $\\sigma ^2$\n",
    " "
   ]
  },
  {
   "cell_type": "code",
   "execution_count": 11,
   "id": "dc90e8ee-ebb4-4155-b7e9-b0f0ddb48f5e",
   "metadata": {},
   "outputs": [
    {
     "data": {
      "text/plain": [
       "(array(0.), array(1.), array(0.), array(0.))"
      ]
     },
     "execution_count": 11,
     "metadata": {},
     "output_type": "execute_result"
    }
   ],
   "source": [
    "mean, var, skew , kurt = norm.stats(moments = 'mvsk')\n",
    "mean, var, skew, kurt"
   ]
  },
  {
   "cell_type": "code",
   "execution_count": 12,
   "id": "96a0cf88-b9c9-46e8-823d-47fd2b7c9230",
   "metadata": {},
   "outputs": [
    {
     "name": "stdout",
     "output_type": "stream",
     "text": [
      "Number of Trial:\n",
      " [-5.  -4.6 -4.2 -3.8 -3.4 -3.  -2.6 -2.2 -1.8 -1.4 -1.  -0.6 -0.2  0.2\n",
      "  0.6  1.   1.4  1.8  2.2  2.6  3.   3.4  3.8  4.2  4.6  5.   5.4  5.8\n",
      "  6.2  6.6  7.   7.4  7.8  8.2  8.6  9.   9.4  9.8]\n",
      "Probability Density Function:\n",
      " [1.4867195147342979e-06, 1.014085206548676e-05, 5.894306775654006e-05, 0.00029194692579146136, 0.0012322191684730254, 0.004431848411938031, 0.013582969233685691, 0.03547459284623163, 0.07895015830089458, 0.14972746563574554, 0.24197072451914423, 0.33322460289180045, 0.39104269397545627, 0.39104269397545555, 0.33322460289179867, 0.2419707245191421, 0.14972746563574366, 0.07895015830089332, 0.03547459284623094, 0.013582969233685379, 0.004431848411937913, 0.001232219168472988, 0.0002919469257914515, 5.894306775653786e-05, 1.0140852065486347e-05, 1.4867195147342318e-06, 1.8573618445552007e-07, 1.977319640624355e-08, 1.7937839079639713e-09, 1.3866799941652187e-10, 9.134720408363913e-12, 5.127753636796263e-13, 2.452855285696215e-14, 9.998378748496185e-16, 3.472962748565838e-17, 1.0279773571667747e-18, 2.5928647011000762e-20, 5.573000022720018e-22]\n"
     ]
    },
    {
     "data": {
      "text/plain": [
       "[<matplotlib.lines.Line2D at 0x1fde6936a60>]"
      ]
     },
     "execution_count": 12,
     "metadata": {},
     "output_type": "execute_result"
    },
    {
     "data": {
      "image/png": "[encoded data removed]",
      "text/plain": [
       "<Figure size 432x288 with 1 Axes>"
      ]
     },
     "metadata": {
      "needs_background": "light"
     },
     "output_type": "display_data"
    }
   ],
   "source": [
    "n_trial = np.arange(-5, +10, 0.4)\n",
    "print(\"Number of Trial:\\n\", n_trial)\n",
    "mean = 0\n",
    "variance = 1\n",
    "PDF_Values = [norm.pdf(trial, loc = mean, scale = variance ) for trial in n_trial]\n",
    "print('Probability Density Function:\\n', PDF_Values)\n",
    "\n",
    "plt.bar(n_trial, PDF_Values)\n",
    "plt.plot(n_trial, PDF_Values, color = 'red', linewidth = 3)"
   ]
  },
  {
   "cell_type": "code",
   "execution_count": 13,
   "id": "8e4c580f-4707-4617-8641-02cf2178e1c7",
   "metadata": {},
   "outputs": [
    {
     "name": "stdout",
     "output_type": "stream",
     "text": [
      "Cummulative Density Function:\n",
      " [1.4867195147342979e-06, 1.014085206548676e-05, 5.894306775654006e-05, 0.00029194692579146136, 0.0012322191684730254, 0.004431848411938031, 0.013582969233685691, 0.03547459284623163, 0.07895015830089458, 0.14972746563574554, 0.24197072451914423, 0.33322460289180045, 0.39104269397545627, 0.39104269397545555, 0.33322460289179867, 0.2419707245191421, 0.14972746563574366, 0.07895015830089332, 0.03547459284623094, 0.013582969233685379, 0.004431848411937913, 0.001232219168472988, 0.0002919469257914515, 5.894306775653786e-05, 1.0140852065486347e-05, 1.4867195147342318e-06, 1.8573618445552007e-07, 1.977319640624355e-08, 1.7937839079639713e-09, 1.3866799941652187e-10, 9.134720408363913e-12, 5.127753636796263e-13, 2.452855285696215e-14, 9.998378748496185e-16, 3.472962748565838e-17, 1.0279773571667747e-18, 2.5928647011000762e-20, 5.573000022720018e-22]\n"
     ]
    },
    {
     "data": {
      "text/plain": [
       "[<matplotlib.lines.Line2D at 0x1fde6a0d910>]"
      ]
     },
     "execution_count": 13,
     "metadata": {},
     "output_type": "execute_result"
    },
    {
     "data": {
      "image/png": "[encoded data removed]",
      "text/plain": [
       "<Figure size 432x288 with 1 Axes>"
      ]
     },
     "metadata": {
      "needs_background": "light"
     },
     "output_type": "display_data"
    }
   ],
   "source": [
    "CDF_Values = [norm.cdf(trial, loc = mean, scale = variance ) for trial in n_trial]\n",
    "print('Cummulative Density Function:\\n', PDF_Values)\n",
    "\n",
    "plt.bar(n_trial, CDF_Values)\n",
    "plt.plot(n_trial, CDF_Values, color = 'red', linewidth = 3)"
   ]
  }
 ],
 "metadata": {
  "kernelspec": {
   "display_name": "Python 3",
   "language": "python",
   "name": "python3"
  },
  "language_info": {
   "codemirror_mode": {
    "name": "ipython",
    "version": 3
   },
   "file_extension": ".py",
   "mimetype": "text/x-python",
   "name": "python",
   "nbconvert_exporter": "python",
   "pygments_lexer": "ipython3",
   "version": "3.8.8"
  }
 },
 "nbformat": 4,
 "nbformat_minor": 5
}
