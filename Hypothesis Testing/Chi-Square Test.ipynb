{
 "cells": [
  {
   "cell_type": "markdown",
   "id": "da9431f1-1d4a-4724-af7e-8f3d776c4359",
   "metadata": {},
   "source": [
    "## Chi-Square Test\n",
    " - The Chi-Square distribuition is denoted as $\\large \\chi^2 $ - distribuition. It is non parametric test. \n",
    " - A Random Variable $\\large X \\sim N(\\mu,\\sigma ^2)$ then standard normal variate is $\\large Z = \\frac{X - \\mu}{\\sigma} \\sim N(0,1)$\n",
    " - The square of standard normal variate $\\large Z^2 = \\bigl[ \\frac{X-\\mu}{\\sigma} \\bigr] ^2 $ is called Chi-Square variate with 1 degree of freedom.\n",
    " - Chi-Square for n degree of freedom $\\large \\chi^2 = \\sum_{i=1}^{N} \\bigl[ \\frac{X - \\mu_i}{\\sigma_i} \\bigr] ^2 $\n",
    " - Chi-Square test for goodness of fit for ideal condition is that $\\large \\sum_{i = 1}^{N} O_i = \\sum_{i = 1}^{N}E_i$.\n",
    " - Chi-Square statistics is defined as $\\large \\chi ^2 = \\sum_{i = 1}^{N} \\bigl[ \\frac {(O_i - E_i)^2}{E_i} \\bigr]$ \n",
    " \n",
    " - This test is applied when we have two categorical variables from single population. It is used to determine whether there is significant association between the two variables"
   ]
  },
  {
   "cell_type": "code",
   "execution_count": 1,
   "id": "e9530550-d660-41ad-8418-1c9d7adc0c06",
   "metadata": {},
   "outputs": [],
   "source": [
    "import numpy as np\n",
    "import pandas as pd\n",
    "import seaborn as sns\n",
    "import scipy.stats as stats"
   ]
  },
  {
   "cell_type": "code",
   "execution_count": 2,
   "id": "758f22ba-1f65-45f3-8117-89e0b5cb4746",
   "metadata": {},
   "outputs": [
    {
     "data": {
      "text/html": [
       "<div>\n",
       "<style scoped>\n",
       "    .dataframe tbody tr th:only-of-type {\n",
       "        vertical-align: middle;\n",
       "    }\n",
       "\n",
       "    .dataframe tbody tr th {\n",
       "        vertical-align: top;\n",
       "    }\n",
       "\n",
       "    .dataframe thead th {\n",
       "        text-align: right;\n",
       "    }\n",
       "</style>\n",
       "<table border=\"1\" class=\"dataframe\">\n",
       "  <thead>\n",
       "    <tr style=\"text-align: right;\">\n",
       "      <th></th>\n",
       "      <th>total_bill</th>\n",
       "      <th>tip</th>\n",
       "      <th>sex</th>\n",
       "      <th>smoker</th>\n",
       "      <th>day</th>\n",
       "      <th>time</th>\n",
       "      <th>size</th>\n",
       "    </tr>\n",
       "  </thead>\n",
       "  <tbody>\n",
       "    <tr>\n",
       "      <th>0</th>\n",
       "      <td>16.99</td>\n",
       "      <td>1.01</td>\n",
       "      <td>Female</td>\n",
       "      <td>No</td>\n",
       "      <td>Sun</td>\n",
       "      <td>Dinner</td>\n",
       "      <td>2</td>\n",
       "    </tr>\n",
       "    <tr>\n",
       "      <th>1</th>\n",
       "      <td>10.34</td>\n",
       "      <td>1.66</td>\n",
       "      <td>Male</td>\n",
       "      <td>No</td>\n",
       "      <td>Sun</td>\n",
       "      <td>Dinner</td>\n",
       "      <td>3</td>\n",
       "    </tr>\n",
       "    <tr>\n",
       "      <th>2</th>\n",
       "      <td>21.01</td>\n",
       "      <td>3.50</td>\n",
       "      <td>Male</td>\n",
       "      <td>No</td>\n",
       "      <td>Sun</td>\n",
       "      <td>Dinner</td>\n",
       "      <td>3</td>\n",
       "    </tr>\n",
       "    <tr>\n",
       "      <th>3</th>\n",
       "      <td>23.68</td>\n",
       "      <td>3.31</td>\n",
       "      <td>Male</td>\n",
       "      <td>No</td>\n",
       "      <td>Sun</td>\n",
       "      <td>Dinner</td>\n",
       "      <td>2</td>\n",
       "    </tr>\n",
       "    <tr>\n",
       "      <th>4</th>\n",
       "      <td>24.59</td>\n",
       "      <td>3.61</td>\n",
       "      <td>Female</td>\n",
       "      <td>No</td>\n",
       "      <td>Sun</td>\n",
       "      <td>Dinner</td>\n",
       "      <td>4</td>\n",
       "    </tr>\n",
       "  </tbody>\n",
       "</table>\n",
       "</div>"
      ],
      "text/plain": [
       "   total_bill   tip     sex smoker  day    time  size\n",
       "0       16.99  1.01  Female     No  Sun  Dinner     2\n",
       "1       10.34  1.66    Male     No  Sun  Dinner     3\n",
       "2       21.01  3.50    Male     No  Sun  Dinner     3\n",
       "3       23.68  3.31    Male     No  Sun  Dinner     2\n",
       "4       24.59  3.61  Female     No  Sun  Dinner     4"
      ]
     },
     "execution_count": 2,
     "metadata": {},
     "output_type": "execute_result"
    }
   ],
   "source": [
    "tips_df = sns.load_dataset('tips')\n",
    "tips_df.head()"
   ]
  },
  {
   "cell_type": "code",
   "execution_count": 3,
   "id": "ad50791f-6153-419a-87ab-6b5c8565c5a1",
   "metadata": {},
   "outputs": [
    {
     "data": {
      "text/html": [
       "<div>\n",
       "<style scoped>\n",
       "    .dataframe tbody tr th:only-of-type {\n",
       "        vertical-align: middle;\n",
       "    }\n",
       "\n",
       "    .dataframe tbody tr th {\n",
       "        vertical-align: top;\n",
       "    }\n",
       "\n",
       "    .dataframe thead th {\n",
       "        text-align: right;\n",
       "    }\n",
       "</style>\n",
       "<table border=\"1\" class=\"dataframe\">\n",
       "  <thead>\n",
       "    <tr style=\"text-align: right;\">\n",
       "      <th>smoker</th>\n",
       "      <th>Yes</th>\n",
       "      <th>No</th>\n",
       "    </tr>\n",
       "    <tr>\n",
       "      <th>sex</th>\n",
       "      <th></th>\n",
       "      <th></th>\n",
       "    </tr>\n",
       "  </thead>\n",
       "  <tbody>\n",
       "    <tr>\n",
       "      <th>Male</th>\n",
       "      <td>60</td>\n",
       "      <td>97</td>\n",
       "    </tr>\n",
       "    <tr>\n",
       "      <th>Female</th>\n",
       "      <td>33</td>\n",
       "      <td>54</td>\n",
       "    </tr>\n",
       "  </tbody>\n",
       "</table>\n",
       "</div>"
      ],
      "text/plain": [
       "smoker  Yes  No\n",
       "sex            \n",
       "Male     60  97\n",
       "Female   33  54"
      ]
     },
     "execution_count": 3,
     "metadata": {},
     "output_type": "execute_result"
    }
   ],
   "source": [
    "tips_table = pd.crosstab(tips_df.sex, tips_df.smoker)\n",
    "tips_table"
   ]
  },
  {
   "cell_type": "code",
   "execution_count": 4,
   "id": "8d850e1e-fbcf-4e23-8db1-1424c60201e4",
   "metadata": {},
   "outputs": [
    {
     "data": {
      "text/plain": [
       "array([[60, 97],\n",
       "       [33, 54]], dtype=int64)"
      ]
     },
     "execution_count": 4,
     "metadata": {},
     "output_type": "execute_result"
    }
   ],
   "source": [
    "tips_table.values"
   ]
  },
  {
   "cell_type": "code",
   "execution_count": 5,
   "id": "495d91d8-e4b0-41a2-9153-c5c685c5147d",
   "metadata": {},
   "outputs": [
    {
     "name": "stdout",
     "output_type": "stream",
     "text": [
      "Observed Values:\n",
      " [[60 97]\n",
      " [33 54]]\n"
     ]
    }
   ],
   "source": [
    "Observed_Values = tips_table.values\n",
    "print('Observed Values:\\n', Observed_Values)"
   ]
  },
  {
   "cell_type": "code",
   "execution_count": null,
   "id": "f65eb800-5ed0-417f-8a4b-82988707c7aa",
   "metadata": {},
   "outputs": [],
   "source": []
  },
  {
   "cell_type": "code",
   "execution_count": 6,
   "id": "18002c01-9a4b-4a0c-ae7e-45ed45e444d1",
   "metadata": {},
   "outputs": [
    {
     "name": "stdout",
     "output_type": "stream",
     "text": [
      "Chi-Square test statistic: 0.008763290531773594\n",
      "P-Value of test statistic: 0.925417020494423\n",
      "Degree of Freedom: 1\n",
      "Expected Values:\n",
      " [[59.84016393 97.15983607]\n",
      " [33.15983607 53.84016393]]\n"
     ]
    }
   ],
   "source": [
    "val = stats.chi2_contingency(tips_table)\n",
    "print('Chi-Square test statistic:', val[0])\n",
    "print('P-Value of test statistic:', val[1])\n",
    "print('Degree of Freedom:', val[2])\n",
    "print('Expected Values:\\n', val[3])"
   ]
  },
  {
   "cell_type": "code",
   "execution_count": 7,
   "id": "91709911-a76d-4c19-b852-3221b0019712",
   "metadata": {},
   "outputs": [
    {
     "name": "stdout",
     "output_type": "stream",
     "text": [
      "[60 97] [59.84016393 97.15983607]\n",
      "[33 54] [33.15983607 53.84016393]\n"
     ]
    },
    {
     "data": {
      "text/plain": [
       "[None, None]"
      ]
     },
     "execution_count": 7,
     "metadata": {},
     "output_type": "execute_result"
    }
   ],
   "source": [
    "Expected_Values = val[3]\n",
    "[print(O,E) for O,E in zip(Observed_Values, Expected_Values)]"
   ]
  },
  {
   "cell_type": "code",
   "execution_count": 8,
   "id": "b1a0c5ef-ba23-41eb-be5f-fd625380798a",
   "metadata": {},
   "outputs": [
    {
     "name": "stdout",
     "output_type": "stream",
     "text": [
      "Degree of Freeedom: 1\n"
     ]
    }
   ],
   "source": [
    "no_of_rows = tips_table.shape[0]\n",
    "no_of_columns = tips_table.shape[1]\n",
    "ddof = (no_of_rows-1) * (no_of_columns - 1)\n",
    "alpha = 0.05\n",
    "print('Degree of Freeedom:', ddof)"
   ]
  },
  {
   "cell_type": "code",
   "execution_count": 9,
   "id": "35f6cad8-0b06-4ee2-aa44-8a1d29c4b239",
   "metadata": {
    "slideshow": {
     "slide_type": "skip"
    },
    "tags": []
   },
   "outputs": [
    {
     "name": "stdout",
     "output_type": "stream",
     "text": [
      "Chi-Square Statistics: 0.001934818536627623\n"
     ]
    }
   ],
   "source": [
    "from scipy.stats import chi2\n",
    "chi_square = sum([(O-E)**2./E for O, E in zip(Observed_Values, Expected_Values)])\n",
    "chi_square_statistics = sum(chi_square)\n",
    "print('Chi-Square Statistics:',chi_square_statistics)"
   ]
  },
  {
   "cell_type": "markdown",
   "id": "b7415105-dbd3-44d5-99d0-633122cd289a",
   "metadata": {},
   "source": [
    "# Chi-Square Distribuition Table"
   ]
  },
  {
   "cell_type": "code",
   "execution_count": 10,
   "id": "bddc0971-8b5d-4279-ba2b-3353c0373916",
   "metadata": {
    "slideshow": {
     "slide_type": "slide"
    },
    "tags": []
   },
   "outputs": [
    {
     "data": {
      "text/html": [
       "\n",
       "        <iframe\n",
       "            width=\"600\"\n",
       "            height=\"300\"\n",
       "            src=\"../SDataset/chi-square-table.pdf\"\n",
       "            frameborder=\"0\"\n",
       "            allowfullscreen\n",
       "        ></iframe>\n",
       "        "
      ],
      "text/plain": [
       "<IPython.lib.display.IFrame at 0x1e41eea71c0>"
      ]
     },
     "execution_count": 10,
     "metadata": {},
     "output_type": "execute_result"
    }
   ],
   "source": [
    "from IPython.display import IFrame\n",
    "IFrame('../SDataset/chi-square-table.pdf', width=600, height=300)"
   ]
  },
  {
   "cell_type": "code",
   "execution_count": 11,
   "id": "68d4cca7-1aeb-4a08-bb58-9f0e0791a9bb",
   "metadata": {},
   "outputs": [
    {
     "name": "stdout",
     "output_type": "stream",
     "text": [
      "Critical Value: 3.841458820694124\n"
     ]
    }
   ],
   "source": [
    "critical_value = chi2.ppf(q = 1- alpha, df = ddof)\n",
    "print('Critical Value:',critical_value)"
   ]
  },
  {
   "cell_type": "code",
   "execution_count": 12,
   "id": "5785c468-70e0-4a49-830e-8e5ecd65f74d",
   "metadata": {},
   "outputs": [
    {
     "name": "stdout",
     "output_type": "stream",
     "text": [
      "p_value: 0.964915107315732\n",
      "Significance level: 0.05\n",
      "Degree of Freedom: 1\n"
     ]
    }
   ],
   "source": [
    "#pvalue\n",
    "p_value = 1-chi2.cdf(x = chi_square_statistics, df = ddof)\n",
    "print('p_value:', p_value)\n",
    "print('Significance level:', alpha)\n",
    "print('Degree of Freedom:', ddof)"
   ]
  },
  {
   "cell_type": "code",
   "execution_count": 13,
   "id": "8f40b111-86e8-4bce-a0e0-fdb6babc472f",
   "metadata": {},
   "outputs": [
    {
     "name": "stdout",
     "output_type": "stream",
     "text": [
      "Accept H0, There is no relationship betweeen 2 categorical variables\n",
      "Accept H0, There is no relationship between 2 categorical variables\n"
     ]
    }
   ],
   "source": [
    "Null_hpothesis = 'There is no significant difference between gender and smoker'\n",
    "if chi_square_statistics <= critical_value:\n",
    "    print('Accept H0, There is no relationship betweeen 2 categorical variables')\n",
    "else:\n",
    "    print('Accept H1, There is a relationship between 2 categorical variables')\n",
    "    \n",
    "\n",
    "if p_value <= alpha:\n",
    "    print('Accept H1, There is a relationship between 2 categorical variables')\n",
    "else:\n",
    "    print('Accept H0, There is no relationship between 2 categorical variables')"
   ]
  },
  {
   "cell_type": "code",
   "execution_count": null,
   "id": "6fa52786-4f46-4285-a967-3dce47ee626c",
   "metadata": {},
   "outputs": [],
   "source": []
  }
 ],
 "metadata": {
  "kernelspec": {
   "display_name": "Python 3",
   "language": "python",
   "name": "python3"
  },
  "language_info": {
   "codemirror_mode": {
    "name": "ipython",
    "version": 3
   },
   "file_extension": ".py",
   "mimetype": "text/x-python",
   "name": "python",
   "nbconvert_exporter": "python",
   "pygments_lexer": "ipython3",
   "version": "3.8.8"
  }
 },
 "nbformat": 4,
 "nbformat_minor": 5
}
